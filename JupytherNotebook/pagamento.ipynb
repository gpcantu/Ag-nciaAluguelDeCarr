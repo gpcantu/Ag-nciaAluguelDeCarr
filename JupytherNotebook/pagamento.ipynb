{
 "cells": [
  {
   "cell_type": "code",
   "execution_count": 2,
   "metadata": {},
   "outputs": [],
   "source": [
    "import requests\n",
    "from IPython.display import display, JSON"
   ]
  },
  {
   "cell_type": "code",
   "execution_count": 3,
   "metadata": {},
   "outputs": [],
   "source": [
    "BASE_URL = 'http://127.0.0.1:5000/pagamento'"
   ]
  },
  {
   "cell_type": "markdown",
   "metadata": {},
   "source": [
    "GET_BY_RESERVA_ID"
   ]
  },
  {
   "cell_type": "code",
   "execution_count": 4,
   "metadata": {},
   "outputs": [],
   "source": [
    "def get_by_reserva_id(self, reserva_id):\n",
    "        response = requests.get(f\"{self.base_url}/by-reserva/{reserva_id}\")\n",
    "        if response.status_code == 200:\n",
    "            data = response.json()\n",
    "            return display(JSON(data))\n",
    "        else:\n",
    "            return f\"Error: {response.status_code}, {response.json()}\""
   ]
  },
  {
   "cell_type": "markdown",
   "metadata": {},
   "source": [
    "CREATE"
   ]
  },
  {
   "cell_type": "code",
   "execution_count": 5,
   "metadata": {},
   "outputs": [],
   "source": [
    "def create(self, data):\n",
    "        headers = {'Content-Type': 'application/json'}\n",
    "        response = requests.post(f\"{self.base_url}/\", json=data, headers=headers)\n",
    "        if response.status_code == 201:\n",
    "            data = response.json()\n",
    "            return display(JSON(data))\n",
    "        else:\n",
    "            return f\"Error: {response.status_code}, {response.json()}\""
   ]
  },
  {
   "cell_type": "markdown",
   "metadata": {},
   "source": [
    "UPDATE"
   ]
  },
  {
   "cell_type": "code",
   "execution_count": 6,
   "metadata": {},
   "outputs": [],
   "source": [
    "def update(self, pagamento_id, data):\n",
    "        headers = {'Content-Type': 'application/json'}\n",
    "        response = requests.put(f\"{self.base_url}/{pagamento_id}\", json=data, headers=headers)\n",
    "        if response.status_code == 200:\n",
    "            data = response.json()\n",
    "            return display(JSON(data))\n",
    "        else:\n",
    "            return f\"Error: {response.status_code}, {response.json()}\""
   ]
  },
  {
   "cell_type": "markdown",
   "metadata": {},
   "source": [
    "DELETE"
   ]
  },
  {
   "cell_type": "code",
   "execution_count": 1,
   "metadata": {},
   "outputs": [],
   "source": [
    "def delete(self, pagamento_id):\n",
    "        response = requests.delete(f\"{self.base_url}/{pagamento_id}\")\n",
    "        if response.status_code == 204:\n",
    "            return response.status_code\n",
    "        else:\n",
    "            return f\"Error: {response.status_code}, {response.json()}\""
   ]
  }
 ],
 "metadata": {
  "kernelspec": {
   "display_name": "Python 3",
   "language": "python",
   "name": "python3"
  },
  "language_info": {
   "codemirror_mode": {
    "name": "ipython",
    "version": 3
   },
   "file_extension": ".py",
   "mimetype": "text/x-python",
   "name": "python",
   "nbconvert_exporter": "python",
   "pygments_lexer": "ipython3",
   "version": "3.12.3"
  }
 },
 "nbformat": 4,
 "nbformat_minor": 2
}
