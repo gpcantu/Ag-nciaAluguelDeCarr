{
 "cells": [
  {
   "cell_type": "code",
   "execution_count": 1,
   "metadata": {},
   "outputs": [],
   "source": [
    "import requests\n",
    "from IPython.display import display, JSON"
   ]
  },
  {
   "cell_type": "code",
   "execution_count": 2,
   "metadata": {},
   "outputs": [],
   "source": [
    "BASE_URL = 'http://127.0.0.1:5000/cliente'"
   ]
  },
  {
   "cell_type": "markdown",
   "metadata": {},
   "source": [
    "Requisição para Obter Todos os Clientes (GET_ALL)"
   ]
  },
  {
   "cell_type": "code",
   "execution_count": 4,
   "metadata": {},
   "outputs": [
    {
     "name": "stdout",
     "output_type": "stream",
     "text": [
      "GET_ALL - Error: 404\n"
     ]
    }
   ],
   "source": [
    "def get_all_clients():\n",
    "    response = requests.get(f\"{BASE_URL}/\")\n",
    "    if response.status_code == 200:\n",
    "        data = response.json()\n",
    "        print(\"GET_ALL - Lista de Clientes:\")\n",
    "        display(JSON(data))\n",
    "    else:\n",
    "        print(f\"GET_ALL - Error: {response.status_code}\")\n",
    "\n",
    "get_all_clients()"
   ]
  },
  {
   "cell_type": "markdown",
   "metadata": {},
   "source": [
    "Requisição para Obter um Cliente por ID (GET_BY_ID)"
   ]
  },
  {
   "cell_type": "code",
   "execution_count": 11,
   "metadata": {},
   "outputs": [
    {
     "name": "stdout",
     "output_type": "stream",
     "text": [
      "Response Status Code: 404\n",
      "Response Text: <!doctype html>\n",
      "<html lang=en>\n",
      "<title>404 Not Found</title>\n",
      "<h1>Not Found</h1>\n",
      "<p>The requested URL was not found on the server. If you entered the URL manually please check your spelling and try again.</p>\n",
      "\n"
     ]
    },
    {
     "data": {
      "text/plain": [
       "'Error: 404, <!doctype html>\\n<html lang=en>\\n<title>404 Not Found</title>\\n<h1>Not Found</h1>\\n<p>The requested URL was not found on the server. If you entered the URL manually please check your spelling and try again.</p>\\n'"
      ]
     },
     "execution_count": 11,
     "metadata": {},
     "output_type": "execute_result"
    }
   ],
   "source": [
    "def get_by_id(id):\n",
    "    response = requests.get(f\"{BASE_URL}/{id}\")\n",
    "    print(f\"Response Status Code: {response.status_code}\")\n",
    "    print(f\"Response Text: {response.text}\")\n",
    "\n",
    "    if response.status_code == 200:\n",
    "        try:\n",
    "            data = response.json()\n",
    "            return display(JSON(data))\n",
    "        except Exception as e:\n",
    "            return f\"Error decoding JSON: {e}\"\n",
    "    else:\n",
    "        return f\"Error: {response.status_code}, {response.text}\"\n",
    "\n",
    "\n",
    "get_by_id(1)\n"
   ]
  },
  {
   "cell_type": "markdown",
   "metadata": {},
   "source": [
    "Requisição para Criar um Novo Cliente (CREATE)"
   ]
  },
  {
   "cell_type": "code",
   "execution_count": 15,
   "metadata": {},
   "outputs": [
    {
     "name": "stdout",
     "output_type": "stream",
     "text": [
      "CREATE - Error: 404, <!doctype html>\n",
      "<html lang=en>\n",
      "<title>404 Not Found</title>\n",
      "<h1>Not Found</h1>\n",
      "<p>The requested URL was not found on the server. If you entered the URL manually please check your spelling and try again.</p>\n",
      "\n"
     ]
    }
   ],
   "source": [
    "def create_client(data):\n",
    "    headers = {'Content-Type': 'application/json'}\n",
    "    response = requests.post(BASE_URL, json=data, headers=headers)\n",
    "    \n",
    "    if response.status_code == 201:\n",
    "        try:\n",
    "            created_client = response.json()\n",
    "            print(\"CREATE - Novo Cliente criado:\")\n",
    "            display(JSON(created_client))\n",
    "        except Exception as e:\n",
    "            print(f\"CREATE - Error ao decodificar resposta JSON: {str(e)}\")\n",
    "    else:\n",
    "        print(f\"CREATE - Error: {response.status_code}, {response.text}\")\n",
    "\n",
    "# Exemplo de criação de um novo cliente\n",
    "new_client = {\n",
    "    'nome': 'Fulano de Tal',\n",
    "    'cpf': '123.456.789-00',\n",
    "    'carteira_motorista': 'ABC123456',\n",
    "    'email': 'fulano@example.com',\n",
    "    'telefone': '(11) 99999-9999'\n",
    "}\n",
    "\n",
    "create_client(new_client)"
   ]
  },
  {
   "cell_type": "markdown",
   "metadata": {},
   "source": [
    "Requisição para Atualizar um Cliente Existente (UPDATE)"
   ]
  },
  {
   "cell_type": "code",
   "execution_count": 13,
   "metadata": {},
   "outputs": [
    {
     "name": "stdout",
     "output_type": "stream",
     "text": [
      "Status code: 404\n",
      "UPDATE - Error: 404, <!doctype html>\n",
      "<html lang=en>\n",
      "<title>404 Not Found</title>\n",
      "<h1>Not Found</h1>\n",
      "<p>The requested URL was not found on the server. If you entered the URL manually please check your spelling and try again.</p>\n",
      "\n"
     ]
    }
   ],
   "source": [
    "def update(id, data):\n",
    "    headers = {'Content-Type': 'application/json'}\n",
    "    response = requests.put(f\"{BASE_URL}/{id}\", json=data, headers=headers)\n",
    "    \n",
    "    print(f\"Status code: {response.status_code}\")  # Verifica o código de status\n",
    "    \n",
    "    if response.status_code == 200:\n",
    "        try:\n",
    "            updated_client = response.json()\n",
    "            print(\"UPDATE - Cliente atualizado:\")\n",
    "            display(JSON(updated_client))\n",
    "        except JSONDecodeError as e:\n",
    "            print(f\"UPDATE - Error decoding JSON: {e}\")\n",
    "    else:\n",
    "        print(f\"UPDATE - Error: {response.status_code}, {response.text}\")\n",
    "\n",
    "# Exemplo de dados para atualizar um cliente existente\n",
    "update(6, {\n",
    "    'nome': 'Novo Nome do Cliente',\n",
    "    'email': 'novonome@example.com',\n",
    "    'telefone': '987654321'\n",
    "})"
   ]
  },
  {
   "cell_type": "markdown",
   "metadata": {},
   "source": [
    "Requisição para Excluir um Cliente (DELETE)"
   ]
  },
  {
   "cell_type": "code",
   "execution_count": 14,
   "metadata": {},
   "outputs": [
    {
     "name": "stdout",
     "output_type": "stream",
     "text": [
      "DELETE - Error: 404, <!doctype html>\n",
      "<html lang=en>\n",
      "<title>404 Not Found</title>\n",
      "<h1>Not Found</h1>\n",
      "<p>The requested URL was not found on the server. If you entered the URL manually please check your spelling and try again.</p>\n",
      "\n"
     ]
    }
   ],
   "source": [
    "def delete(id):\n",
    "    response = requests.delete(f\"{BASE_URL}/{id}\")\n",
    "    \n",
    "    if response.status_code == 204:\n",
    "        print(f\"DELETE - Cliente com ID {id} excluído com sucesso.\")\n",
    "    else:\n",
    "        print(f\"DELETE - Error: {response.status_code}, {response.text}\")\n",
    "\n",
    "# Exemplo de chamada para deletar um cliente com ID específico\n",
    "delete(6)\n"
   ]
  }
 ],
 "metadata": {
  "kernelspec": {
   "display_name": "Python 3",
   "language": "python",
   "name": "python3"
  },
  "language_info": {
   "codemirror_mode": {
    "name": "ipython",
    "version": 3
   },
   "file_extension": ".py",
   "mimetype": "text/x-python",
   "name": "python",
   "nbconvert_exporter": "python",
   "pygments_lexer": "ipython3",
   "version": "3.12.3"
  }
 },
 "nbformat": 4,
 "nbformat_minor": 2
}
