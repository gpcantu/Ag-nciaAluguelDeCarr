{
 "cells": [
  {
   "cell_type": "code",
   "execution_count": 1,
   "metadata": {},
   "outputs": [],
   "source": [
    "import requests\n",
    "from IPython.display import display, JSON"
   ]
  },
  {
   "cell_type": "code",
   "execution_count": 2,
   "metadata": {},
   "outputs": [],
   "source": [
    "BASE_URL = 'http://127.0.0.1:5000/feedbacks'"
   ]
  },
  {
   "cell_type": "markdown",
   "metadata": {},
   "source": [
    "GET_ALL"
   ]
  },
  {
   "cell_type": "code",
   "execution_count": 3,
   "metadata": {},
   "outputs": [],
   "source": [
    "def get_all(self):\n",
    "        response = requests.get(BASE_URL)\n",
    "        if response.status_code == 200:\n",
    "            data = response.json()\n",
    "            return display(JSON(data))\n",
    "        else:\n",
    "            return f\"Error: {response.status_code}\""
   ]
  },
  {
   "cell_type": "markdown",
   "metadata": {},
   "source": [
    "GET_BY_ID"
   ]
  },
  {
   "cell_type": "code",
   "execution_count": 4,
   "metadata": {},
   "outputs": [],
   "source": [
    "def get_by_id(self, feedback_id):\n",
    "        response = requests.get(f\"{BASE_URL}/{feedback_id}\")\n",
    "        if response.status_code == 200:\n",
    "            data = response.json()\n",
    "            return display(JSON(data))\n",
    "        else:\n",
    "            return f\"Error: {response.status_code}, {response.json()}\""
   ]
  },
  {
   "cell_type": "markdown",
   "metadata": {},
   "source": [
    "GET_BY_NAME\n"
   ]
  },
  {
   "cell_type": "code",
   "execution_count": 5,
   "metadata": {},
   "outputs": [],
   "source": [
    "def get_by_name(self, name):\n",
    "        response = requests.get(f\"{BASE_URL}/name/{name}\")\n",
    "        if response.status_code == 200:\n",
    "            data = response.json()\n",
    "            return display(JSON(data))\n",
    "        else:\n",
    "            return f\"Error: {response.status_code}, {response.json()}\""
   ]
  },
  {
   "cell_type": "markdown",
   "metadata": {},
   "source": [
    "GET_BY_ARGS"
   ]
  },
  {
   "cell_type": "code",
   "execution_count": 7,
   "metadata": {},
   "outputs": [],
   "source": [
    "def get_by_args(self, params):\n",
    "        query_string = '&'.join(f\"{key}={value}\" for key, value in params.items())\n",
    "        response = requests.get(f\"{BASE_URL}?{query_string}\")\n",
    "        if response.status_code == 200:\n",
    "            data = response.json()\n",
    "            return display(JSON(data))\n",
    "        else:\n",
    "            return f\"Error: {response.status_code}, {response.json()}\""
   ]
  },
  {
   "cell_type": "markdown",
   "metadata": {},
   "source": [
    "CREATE"
   ]
  },
  {
   "cell_type": "code",
   "execution_count": 8,
   "metadata": {},
   "outputs": [],
   "source": [
    "def create(self, data):\n",
    "        headers = {'Content-Type': 'application/json'}\n",
    "        response = requests.post(BASE_URL, json=data, headers=headers)\n",
    "        if response.status_code == 201:\n",
    "            data = response.json()\n",
    "            return display(JSON(data))\n",
    "        else:\n",
    "            return f\"Error: {response.status_code}, {response.json()}\""
   ]
  },
  {
   "cell_type": "markdown",
   "metadata": {},
   "source": [
    "UPDATE"
   ]
  },
  {
   "cell_type": "code",
   "execution_count": 9,
   "metadata": {},
   "outputs": [],
   "source": [
    " def update(self, feedback_id, data):\n",
    "        headers = {'Content-Type': 'application/json'}\n",
    "        response = requests.put(f\"{BASE_URL}/{feedback_id}\", json=data, headers=headers)\n",
    "        if response.status_code == 200:\n",
    "            data = response.json()\n",
    "            return display(JSON(data))\n",
    "        else:\n",
    "            return f\"Error: {response.status_code}, {response.json()}\""
   ]
  },
  {
   "cell_type": "markdown",
   "metadata": {},
   "source": [
    "DELETE"
   ]
  },
  {
   "cell_type": "code",
   "execution_count": 10,
   "metadata": {},
   "outputs": [],
   "source": [
    " def delete(self, feedback_id):\n",
    "        response = requests.delete(f\"{BASE_URL}/{feedback_id}\")\n",
    "        if response.status_code == 204:\n",
    "            return f\"Feedback with ID {feedback_id} deleted successfully.\"\n",
    "        else:\n",
    "            return f\"Error: {response.status_code}, {response.json()}\""
   ]
  }
 ],
 "metadata": {
  "kernelspec": {
   "display_name": "Python 3",
   "language": "python",
   "name": "python3"
  },
  "language_info": {
   "codemirror_mode": {
    "name": "ipython",
    "version": 3
   },
   "file_extension": ".py",
   "mimetype": "text/x-python",
   "name": "python",
   "nbconvert_exporter": "python",
   "pygments_lexer": "ipython3",
   "version": "3.12.3"
  }
 },
 "nbformat": 4,
 "nbformat_minor": 2
}
