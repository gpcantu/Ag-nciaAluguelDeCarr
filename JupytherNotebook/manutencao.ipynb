{
 "cells": [
  {
   "cell_type": "code",
   "execution_count": 1,
   "metadata": {},
   "outputs": [],
   "source": [
    "import requests\n",
    "from IPython.display import display, JSON"
   ]
  },
  {
   "cell_type": "code",
   "execution_count": 2,
   "metadata": {},
   "outputs": [],
   "source": [
    "BASE_URL = 'http://127.0.0.1:5000/manutencao'"
   ]
  },
  {
   "cell_type": "markdown",
   "metadata": {},
   "source": [
    "GET_ALL"
   ]
  },
  {
   "cell_type": "code",
   "execution_count": 3,
   "metadata": {},
   "outputs": [],
   "source": [
    "def get_all(self):\n",
    "        response = requests.get(f\"{self.base_url}/\")\n",
    "        if response.status_code == 200:\n",
    "            data = response.json()\n",
    "            return display(JSON(data))\n",
    "        else:\n",
    "            return f\"Error: {response.status_code}\""
   ]
  },
  {
   "cell_type": "markdown",
   "metadata": {},
   "source": [
    "GET_BY_ID"
   ]
  },
  {
   "cell_type": "code",
   "execution_count": 4,
   "metadata": {},
   "outputs": [],
   "source": [
    "def get_by_id(self, manutencao_id):\n",
    "        response = requests.get(f\"{self.base_url}/{manutencao_id}\")\n",
    "        if response.status_code == 200:\n",
    "            data = response.json()\n",
    "            return display(JSON(data))\n",
    "        else:\n",
    "            return f\"Error: {response.status_code}, {response.json()}\""
   ]
  },
  {
   "cell_type": "markdown",
   "metadata": {},
   "source": [
    "CREATE"
   ]
  },
  {
   "cell_type": "code",
   "execution_count": 5,
   "metadata": {},
   "outputs": [],
   "source": [
    "def create(self, data):\n",
    "        headers = {'Content-Type': 'application/json'}\n",
    "        response = requests.post(f\"{self.base_url}/\", json=data, headers=headers)\n",
    "        if response.status_code == 201:\n",
    "            data = response.json()\n",
    "            return display(JSON(data))\n",
    "        else:\n",
    "            return f\"Error: {response.status_code}, {response.json()}\""
   ]
  },
  {
   "cell_type": "markdown",
   "metadata": {},
   "source": [
    "UPDATE"
   ]
  },
  {
   "cell_type": "code",
   "execution_count": 6,
   "metadata": {},
   "outputs": [],
   "source": [
    "def update(self, manutencao_id, data):\n",
    "        headers = {'Content-Type': 'application/json'}\n",
    "        response = requests.put(f\"{self.base_url}/{manutencao_id}\", json=data, headers=headers)\n",
    "        if response.status_code == 200:\n",
    "            data = response.json()\n",
    "            return display(JSON(data))\n",
    "        else:\n",
    "            return f\"Error: {response.status_code}, {response.json()}\""
   ]
  },
  {
   "cell_type": "markdown",
   "metadata": {},
   "source": [
    "DELETE"
   ]
  },
  {
   "cell_type": "code",
   "execution_count": 7,
   "metadata": {},
   "outputs": [],
   "source": [
    "def delete(self, manutencao_id):\n",
    "        response = requests.delete(f\"{self.base_url}/{manutencao_id}\")\n",
    "        if response.status_code == 204:\n",
    "            return response.status_code\n",
    "        else:\n",
    "            return f\"Error: {response.status_code}, {response.json()}\""
   ]
  },
  {
   "cell_type": "markdown",
   "metadata": {},
   "source": [
    "GET_BY_VEICULO_ID"
   ]
  },
  {
   "cell_type": "code",
   "execution_count": 8,
   "metadata": {},
   "outputs": [],
   "source": [
    "def get_by_veiculo_id(self, veiculo_id):\n",
    "        response = requests.get(f\"{self.base_url}/by-veiculo/{veiculo_id}\")\n",
    "        if response.status_code == 200:\n",
    "            data = response.json()\n",
    "            return display(JSON(data))\n",
    "        else:\n",
    "            return f\"Error: {response.status_code}, {response.json()}\""
   ]
  }
 ],
 "metadata": {
  "kernelspec": {
   "display_name": "Python 3",
   "language": "python",
   "name": "python3"
  },
  "language_info": {
   "codemirror_mode": {
    "name": "ipython",
    "version": 3
   },
   "file_extension": ".py",
   "mimetype": "text/x-python",
   "name": "python",
   "nbconvert_exporter": "python",
   "pygments_lexer": "ipython3",
   "version": "3.12.3"
  }
 },
 "nbformat": 4,
 "nbformat_minor": 2
}
