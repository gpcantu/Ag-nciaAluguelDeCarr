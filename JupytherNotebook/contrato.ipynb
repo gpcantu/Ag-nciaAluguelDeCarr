{
 "cells": [
  {
   "cell_type": "code",
   "execution_count": 1,
   "metadata": {},
   "outputs": [],
   "source": [
    "import requests\n",
    "from IPython.display import display, JSON"
   ]
  },
  {
   "cell_type": "code",
   "execution_count": 2,
   "metadata": {},
   "outputs": [],
   "source": [
    "BASE_URL = 'http://127.0.0.1:5000/contratos'"
   ]
  },
  {
   "cell_type": "markdown",
   "metadata": {},
   "source": [
    "GET ALL"
   ]
  },
  {
   "cell_type": "code",
   "execution_count": 1,
   "metadata": {},
   "outputs": [],
   "source": [
    "def get_all(self):\n",
    "        response = requests.get(BASE_URL)\n",
    "        if response.status_code == 200:\n",
    "            data = response.json()\n",
    "            return display(JSON(data))\n",
    "        else:\n",
    "            return f\"Error: {response.status_code}\""
   ]
  },
  {
   "cell_type": "markdown",
   "metadata": {},
   "source": [
    "GET_BY_ID"
   ]
  },
  {
   "cell_type": "code",
   "execution_count": 2,
   "metadata": {},
   "outputs": [],
   "source": [
    "def get_by_id(self, contrato_id):\n",
    "        response = requests.get(f\"{BASE_URL}/{contrato_id}\")\n",
    "        if response.status_code == 200:\n",
    "            data = response.json()\n",
    "            return display(JSON(data))\n",
    "        else:\n",
    "            return f\"Error: {response.status_code}, {response.json()}\""
   ]
  },
  {
   "cell_type": "markdown",
   "metadata": {},
   "source": [
    "CREATE"
   ]
  },
  {
   "cell_type": "code",
   "execution_count": 6,
   "metadata": {},
   "outputs": [],
   "source": [
    "def create(self, data):\n",
    "        headers = {'Content-Type': 'application/json'}\n",
    "        response = requests.post(BASE_URL, json=data, headers=headers)\n",
    "        if response.status_code == 201:\n",
    "            data = response.json()\n",
    "            return display(JSON(data))\n",
    "        else:\n",
    "            return f\"Error: {response.status_code}, {response.json()}\""
   ]
  },
  {
   "cell_type": "markdown",
   "metadata": {},
   "source": [
    "UPDATE"
   ]
  },
  {
   "cell_type": "code",
   "execution_count": 12,
   "metadata": {},
   "outputs": [
    {
     "name": "stdout",
     "output_type": "stream",
     "text": [
      "UPDATE - Error: 500, <!doctype html>\n",
      "<html lang=en>\n",
      "<title>500 Internal Server Error</title>\n",
      "<h1>Internal Server Error</h1>\n",
      "<p>The server encountered an internal error and was unable to complete your request. Either the server is overloaded or there is an error in the application.</p>\n",
      "\n"
     ]
    }
   ],
   "source": [
    "def update_contrato(cliente_id, data):\n",
    "    headers = {'Content-Type': 'application/json'}\n",
    "    response = requests.put(f\"{BASE_URL}/{cliente_id}\", json=data, headers=headers)\n",
    "    \n",
    "    if response.status_code == 200:\n",
    "        try:\n",
    "            data = response.json()\n",
    "            print(\"UPDATE - Contrato atualizado:\")\n",
    "            display(JSON(data))\n",
    "        except ValueError as e:\n",
    "            print(f\"UPDATE - Error decoding JSON: {e}\")\n",
    "    elif response.status_code == 404:\n",
    "        print(f\"UPDATE - Contrato não encontrado para o ID {cliente_id}\")\n",
    "    else:\n",
    "        print(f\"UPDATE - Error: {response.status_code}, {response.text}\")\n",
    "\n",
    "# Substitua o valor de cliente_id pelo ID do contrato que você deseja atualizar\n",
    "cliente_id = 1\n",
    "data = {\n",
    "    'campo1': 'valor1',\n",
    "    'campo2': 'valor2'\n",
    "}\n",
    "update_contrato(cliente_id, data)"
   ]
  },
  {
   "cell_type": "markdown",
   "metadata": {},
   "source": [
    "DELETE"
   ]
  },
  {
   "cell_type": "code",
   "execution_count": 13,
   "metadata": {},
   "outputs": [
    {
     "name": "stdout",
     "output_type": "stream",
     "text": [
      "DELETE - Erro inesperado: <!doctype html>\n",
      "<html lang=en>\n",
      "<title>500 Internal Server Error</title>\n",
      "<h1>Internal Server Error</h1>\n",
      "<p>The server encountered an internal error and was unable to complete your request. Either the server is overloaded or there is an error in the application.</p>\n",
      "\n"
     ]
    }
   ],
   "source": [
    "def delete_contrato(cliente_id):\n",
    "    response = requests.delete(f\"{BASE_URL}/{cliente_id}\")\n",
    "    \n",
    "    if response.status_code == 204:\n",
    "        print(f\"DELETE - Contrato com ID {cliente_id} deletado com sucesso.\")\n",
    "    elif response.status_code == 404:\n",
    "        print(f\"DELETE - Contrato com ID {cliente_id} não encontrado.\")\n",
    "    else:\n",
    "        try:\n",
    "            error_msg = response.json().get('error', 'Erro desconhecido')\n",
    "            print(f\"DELETE - Erro ao deletar contrato: {error_msg}\")\n",
    "        except ValueError:\n",
    "            print(f\"DELETE - Erro inesperado: {response.text}\")\n",
    "\n",
    "# Substitua o valor de cliente_id pelo ID do contrato que você deseja deletar\n",
    "cliente_id = 1\n",
    "delete_contrato(cliente_id)"
   ]
  }
 ],
 "metadata": {
  "kernelspec": {
   "display_name": "Python 3",
   "language": "python",
   "name": "python3"
  },
  "language_info": {
   "codemirror_mode": {
    "name": "ipython",
    "version": 3
   },
   "file_extension": ".py",
   "mimetype": "text/x-python",
   "name": "python",
   "nbconvert_exporter": "python",
   "pygments_lexer": "ipython3",
   "version": "3.12.3"
  }
 },
 "nbformat": 4,
 "nbformat_minor": 2
}
